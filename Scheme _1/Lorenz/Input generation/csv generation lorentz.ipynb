{
 "cells": [
  {
   "cell_type": "markdown",
   "id": "4acc7dcb",
   "metadata": {},
   "source": [
    "# Combines all the barcode data into a single file - you have to manually label the barcodes - true features as 1, noise as 0."
   ]
  },
  {
   "cell_type": "code",
   "execution_count": 2,
   "id": "dc4b2ca3",
   "metadata": {},
   "outputs": [
    {
     "name": "stdout",
     "output_type": "stream",
     "text": [
      "6\n",
      "['ripser_plot_Rho=99.6_100(diff).csv', 'ripser_plot_Rho=99.6_200(diff).csv', 'ripser_plot_Rho=99.6_300(diff).csv', 'ripser_plot_Rho=99.6_400(diff).csv', 'ripser_plot_Rho=99.6_500(diff).csv', 'ripser_plot_Rho=99.6_600(diff).csv']\n",
      "     Sample_size      birth      death       diff\n",
      "0            100   9.592607   9.776953   0.184346\n",
      "1            100   9.520162   9.829374   0.309213\n",
      "2            100   8.959570   9.355696   0.396126\n",
      "3            100   8.720021   9.226077   0.506056\n",
      "4            100   9.559469  10.325602   0.766132\n",
      "..           ...        ...        ...        ...\n",
      "175          600   1.731504   2.186594   0.455090\n",
      "176          600   1.815169   2.429119   0.613949\n",
      "177          600   9.154224   9.885355   0.731131\n",
      "178          600   8.315605  26.593876  18.278271\n",
      "179          600  11.902166  60.900787  48.998621\n",
      "\n",
      "[180 rows x 4 columns]\n"
     ]
    }
   ],
   "source": [
    "\n",
    "\n",
    "import pandas as pd\n",
    "import glob\n",
    "import os\n",
    "\n",
    "\n",
    "files = os.path.join(\"ripser_plot_Rho=99.6_*(diff).csv\")\n",
    "files = glob.glob(files)\n",
    "\n",
    "print(len(files))\n",
    "print(files)\n",
    "\n",
    "\n",
    "# joining files with concat and read_csv\n",
    "df = pd.concat(map(pd.read_csv, files), ignore_index=True)\n",
    "\n",
    "df.drop(df.columns[df.columns.str.contains(\n",
    "    'unnamed', case=False)], axis=1, inplace=True)\n",
    " \n",
    "print(df)\n",
    "\n",
    "df.to_csv('ripser test data_99.6.csv')\n",
    "\n"
   ]
  },
  {
   "cell_type": "code",
   "execution_count": null,
   "id": "e8258e29",
   "metadata": {},
   "outputs": [],
   "source": []
  },
  {
   "cell_type": "code",
   "execution_count": null,
   "id": "66bb518f",
   "metadata": {},
   "outputs": [],
   "source": []
  },
  {
   "cell_type": "code",
   "execution_count": null,
   "id": "aeb034e8",
   "metadata": {},
   "outputs": [],
   "source": []
  },
  {
   "cell_type": "code",
   "execution_count": null,
   "id": "4be4a357",
   "metadata": {},
   "outputs": [],
   "source": []
  },
  {
   "cell_type": "code",
   "execution_count": null,
   "id": "354bd004",
   "metadata": {},
   "outputs": [],
   "source": []
  },
  {
   "cell_type": "code",
   "execution_count": null,
   "id": "8e444ba4",
   "metadata": {},
   "outputs": [],
   "source": []
  }
 ],
 "metadata": {
  "kernelspec": {
   "display_name": "Python 3 (ipykernel)",
   "language": "python",
   "name": "python3"
  },
  "language_info": {
   "codemirror_mode": {
    "name": "ipython",
    "version": 3
   },
   "file_extension": ".py",
   "mimetype": "text/x-python",
   "name": "python",
   "nbconvert_exporter": "python",
   "pygments_lexer": "ipython3",
   "version": "3.9.7"
  }
 },
 "nbformat": 4,
 "nbformat_minor": 5
}
